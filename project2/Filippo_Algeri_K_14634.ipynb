{
  "nbformat": 4,
  "nbformat_minor": 0,
  "metadata": {
    "colab": {
      "provenance": [],
      "authorship_tag": "ABX9TyOVB4U9Zh76T5XjNWQOV4+t",
      "include_colab_link": true
    },
    "kernelspec": {
      "name": "python3",
      "display_name": "Python 3"
    },
    "language_info": {
      "name": "python"
    }
  },
  "cells": [
    {
      "cell_type": "markdown",
      "metadata": {
        "id": "view-in-github",
        "colab_type": "text"
      },
      "source": [
        "<a href=\"https://colab.research.google.com/github/FAlgeri/SDA2---project/blob/main/Filippo_Algeri_K_14634.ipynb\" target=\"_parent\"><img src=\"https://colab.research.google.com/assets/colab-badge.svg\" alt=\"Open In Colab\"/></a>"
      ]
    },
    {
      "cell_type": "markdown",
      "source": [
        "# **SDA2 Project 2**"
      ],
      "metadata": {
        "id": "fG3--WazpVZA"
      }
    },
    {
      "cell_type": "code",
      "execution_count": 97,
      "metadata": {
        "id": "gQaaongLnb_9"
      },
      "outputs": [],
      "source": [
        "import numpy as np\n",
        "import matplotlib.pyplot as plt\n",
        "import seaborn as sns\n",
        "from statsmodels.graphics.tsaplots import plot_acf"
      ]
    },
    {
      "cell_type": "markdown",
      "source": [
        "#### **1. Derive the formulas for P(C = T | R = T, S = T,W = T), P(C = T | R = F S = T,W = T), P(R = T | C = T, S = T,W = T) and P(R = T | C = F, S = T,W = T) up to normalization constants in the denominators, and compute their values by renormalizing the two possible values for each conditional probability distribution. (2 point)**\n"
      ],
      "metadata": {
        "id": "9hfHVOuzoK8l"
      }
    },
    {
      "cell_type": "markdown",
      "source": [
        "#### **2. Implement the Gibbs sampler sketched above for the Bayesian network in Figure 1 and draw 100 samples from the joint probability distribution P(R,C | S = T,W = T) (4 point)**\n",
        "\n"
      ],
      "metadata": {
        "id": "NBO_L6wKoPAf"
      }
    },
    {
      "cell_type": "code",
      "source": [
        "def gibbs_sampler(num_sample):\n",
        "\n",
        "  samples = {'cloudy': [],\n",
        "            'rain': [], \n",
        "            'sprinkler': [], \n",
        "            'wet': []}\n",
        "\n",
        "  # Conditional probability tables for each node\n",
        "  conditional_probability = {'cloudy': np.array([0.5, 0.5]), \n",
        "                            'rain': np.array([[0.8, 0.2], [0.2, 0.8]]),  \n",
        "                            'sprinkler': np.array([[0.5, 0.5], [0.9, 0.1]]), \n",
        "                            'wet': np.array([[[0.99, 0.01], [0.1, 0.9]], [[0.1, 0.9], [0.01, 0.99]]])}\n",
        "\n",
        "  # Initialize the nodes\n",
        "  cloudy = np.random.choice([0, 1], p=conditional_probability['cloudy'])\n",
        "  rain = np.random.choice([0, 1], p=conditional_probability['rain'][cloudy])\n",
        "  sprinkler = np.random.choice([0, 1], p=conditional_probability['sprinkler'][cloudy])\n",
        "  wet = np.random.choice([0, 1], p=conditional_probability['wet'][sprinkler][rain])\n",
        "\n",
        "  # Loop\n",
        "  for _ in range(num_sample):\n",
        "    cloudy = np.random.choice([0, 1], p=conditional_probability['cloudy'])\n",
        "    rain = np.random.choice([0, 1], p=conditional_probability['rain'][cloudy])\n",
        "    sprinkler = np.random.choice([0, 1], p=conditional_probability['sprinkler'][cloudy])\n",
        "    wet = np.random.choice([0, 1], p=conditional_probability['wet'][sprinkler][rain])\n",
        "    samples['cloudy'].append(cloudy)\n",
        "    samples['rain'].append(rain)\n",
        "    samples['sprinkler'].append(sprinkler)\n",
        "    samples['wet'].append(wet)\n",
        "  \n",
        "  return samples"
      ],
      "metadata": {
        "id": "JzcZGhwVUCnR"
      },
      "execution_count": 98,
      "outputs": []
    },
    {
      "cell_type": "code",
      "source": [
        "samples = gibbs_sampler(100)"
      ],
      "metadata": {
        "id": "Um107kbX4gyM"
      },
      "execution_count": 99,
      "outputs": []
    },
    {
      "cell_type": "markdown",
      "source": [
        "#### **3. Estimate the marginal probability of rain, given that the sprinkler is on and the grass is wet P(R = T | S = T,W = T) from the 100 samples. (2 point)**"
      ],
      "metadata": {
        "id": "3mP40oVJoTlv"
      }
    },
    {
      "cell_type": "code",
      "source": [
        "id = []\n",
        "for i in range(100):\n",
        "  if samples['sprinkler'][i] == 1 and samples['wet'][i] == 1:\n",
        "    id.append(i)"
      ],
      "metadata": {
        "id": "OfheY-6wYp1F"
      },
      "execution_count": 100,
      "outputs": []
    },
    {
      "cell_type": "code",
      "source": [
        "count = 0\n",
        "for i in id:\n",
        "  if samples['rain'][i] == 1:\n",
        "    count += 1\n",
        "marginal_probability = count/len(id)\n",
        "print(marginal_probability)"
      ],
      "metadata": {
        "colab": {
          "base_uri": "https://localhost:8080/"
        },
        "id": "bD6FW7sNaI8k",
        "outputId": "b5bb476f-58b5-485d-f6c1-0aaf88dc4852"
      },
      "execution_count": 101,
      "outputs": [
        {
          "output_type": "stream",
          "name": "stdout",
          "text": [
            "0.3157894736842105\n"
          ]
        }
      ]
    },
    {
      "cell_type": "markdown",
      "source": [
        "#### **4. Now draw 50,000 samples instead of 100 using the Gibbs sampler.**\n"
      ],
      "metadata": {
        "id": "ojSyY9tvodNV"
      }
    },
    {
      "cell_type": "code",
      "source": [
        "samples1 = gibbs_sampler(50000)"
      ],
      "metadata": {
        "id": "aWQb030WohpA"
      },
      "execution_count": 102,
      "outputs": []
    },
    {
      "cell_type": "markdown",
      "source": [
        "#### **5. Provide the plot of the relative frequencies of R = T and C = T up to each iteration t against t, for two independent runs of the sampler. Suggest a burn-in time based on this plot. (1 point)**\n"
      ],
      "metadata": {
        "id": "1CWXT875oh-0"
      }
    },
    {
      "cell_type": "code",
      "source": [
        "run1 = []\n",
        "for _ in range(10000, len(samples1['rain'])):\n",
        "  if samples1['rain'][_] == 1:\n",
        "    run1.append('R = T')\n",
        "for _ in range(10000, len(samples1['cloudy'])):\n",
        "  if samples1['cloudy'][_] == 1:\n",
        "    run1.append('C = T')"
      ],
      "metadata": {
        "id": "HJMkSUnF0AQT"
      },
      "execution_count": 103,
      "outputs": []
    },
    {
      "cell_type": "code",
      "source": [
        "samples2 = gibbs_sampler(50000)"
      ],
      "metadata": {
        "id": "Rkydh81bnKOU"
      },
      "execution_count": 104,
      "outputs": []
    },
    {
      "cell_type": "code",
      "source": [
        "run2 = []\n",
        "for _ in range(10000, len(samples2['rain'])):\n",
        "  if samples2['rain'][_] == 1:\n",
        "    run2.append('R = T')\n",
        "for _ in range(10000, len(samples2['cloudy'])):\n",
        "  if samples2['cloudy'][_] == 1:\n",
        "    run2.append('C = T')"
      ],
      "metadata": {
        "id": "A159ySRC0S8s"
      },
      "execution_count": 105,
      "outputs": []
    },
    {
      "cell_type": "code",
      "source": [
        "sns.set_theme()\n",
        "\n",
        "fig, axs = plt.subplots(1, 2, figsize=(10, 5))\n",
        "fig.suptitle('Relative frequencies of R = T and C = T')\n",
        "\n",
        "sns.histplot(run1, ax=axs[0])\n",
        "axs[0].set_title('First run')\n",
        "axs[0].set_ylim(17500, 21000)\n",
        "\n",
        "sns.histplot(run2, ax=axs[1])\n",
        "axs[1].set_title('Second run')\n",
        "axs[1].set_ylim(17500, 21000)\n"
      ],
      "metadata": {
        "colab": {
          "base_uri": "https://localhost:8080/",
          "height": 375
        },
        "id": "yClLr3AEQ_ao",
        "outputId": "28b44fdb-e55b-4a8c-f415-b70cf5a195e1"
      },
      "execution_count": 106,
      "outputs": [
        {
          "output_type": "execute_result",
          "data": {
            "text/plain": [
              "(17500.0, 21000.0)"
            ]
          },
          "metadata": {},
          "execution_count": 106
        },
        {
          "output_type": "display_data",
          "data": {
            "text/plain": [
              "<Figure size 720x360 with 2 Axes>"
            ],
            "image/png": "[encoded data removed]"
          },
          "metadata": {}
        }
      ]
    },
    {
      "cell_type": "markdown",
      "source": [
        "#### **6. Investigate the auto-correlation among the samples. We expect adjacent members from a Gibbs sampling sequence to be positively correlated, and we can quantify the amount of this correlation by using the auto-correlation function. The lag-k auto-correlation ρk is the correlation between every draw and its kth neighbouring samples. Provide plots for both variables Rain and Cloudy. Suggest an interval for drawing approximately independent samples. (2 points)**\n"
      ],
      "metadata": {
        "id": "2BVqLDTLokN0"
      }
    },
    {
      "cell_type": "code",
      "source": [
        "def acf(x, length=100):\n",
        "    return np.array([np.corrcoef(x[:-i], x[i:])[0, 1]  \\\n",
        "        for i in range(1, length)])"
      ],
      "metadata": {
        "id": "ZBxPxAo0vENQ"
      },
      "execution_count": 107,
      "outputs": []
    },
    {
      "cell_type": "code",
      "source": [
        "r = acf(samples2['rain'])\n",
        "c = acf(samples2['cloudy'])\n",
        "w = acf(samples2['wet'])\n",
        "s = acf(samples2['sprinkler'])"
      ],
      "metadata": {
        "id": "_8vJ-8jRvFmB"
      },
      "execution_count": 108,
      "outputs": []
    },
    {
      "cell_type": "code",
      "source": [
        "plot_acf(r, title='Autocorrelation Rain')"
      ],
      "metadata": {
        "colab": {
          "base_uri": "https://localhost:8080/",
          "height": 551
        },
        "id": "jl2TbEhSTXGx",
        "outputId": "2734e013-efb8-4304-8938-656cd5eee9a7"
      },
      "execution_count": 109,
      "outputs": [
        {
          "output_type": "execute_result",
          "data": {
            "text/plain": [
              "<Figure size 432x288 with 1 Axes>"
            ],
            "image/png": "[encoded data removed]"
          },
          "metadata": {},
          "execution_count": 109
        },
        {
          "output_type": "display_data",
          "data": {
            "text/plain": [
              "<Figure size 432x288 with 1 Axes>"
            ],
            "image/png": "[encoded data removed]"
          },
          "metadata": {}
        }
      ]
    },
    {
      "cell_type": "code",
      "source": [
        "plot_acf(c, title='Autocorrelation Cloudy')"
      ],
      "metadata": {
        "colab": {
          "base_uri": "https://localhost:8080/",
          "height": 551
        },
        "id": "yoCjpRH9UMCw",
        "outputId": "ba258484-541a-4047-d10a-69ae80ca4d03"
      },
      "execution_count": 110,
      "outputs": [
        {
          "output_type": "execute_result",
          "data": {
            "text/plain": [
              "<Figure size 432x288 with 1 Axes>"
            ],
            "image/png": "[encoded data removed]"
          },
          "metadata": {},
          "execution_count": 110
        },
        {
          "output_type": "display_data",
          "data": {
            "text/plain": [
              "<Figure size 432x288 with 1 Axes>"
            ],
            "image/png": "[encoded data removed]"
          },
          "metadata": {}
        }
      ]
    },
    {
      "cell_type": "markdown",
      "source": [
        "#### **7. Implement burn-in and thinning-out for your sampler. (1 points)**\n"
      ],
      "metadata": {
        "id": "fvqMaI-YomPI"
      }
    },
    {
      "cell_type": "code",
      "source": [
        "def gibbs_sampler_new(num_sample, burn_in, thinning):\n",
        "\n",
        "  samples = {'cloudy': [],\n",
        "            'rain': [], \n",
        "            'sprinkler': [], \n",
        "            'wet': []}\n",
        "\n",
        "  # Conditional probability tables for each node\n",
        "  conditional_probability = {'cloudy': np.array([0.5, 0.5]), \n",
        "                            'rain': np.array([[0.8, 0.2], [0.2, 0.8]]),  \n",
        "                            'sprinkler': np.array([[0.5, 0.5], [0.9, 0.1]]), \n",
        "                            'wet': np.array([[[0.99, 0.01], [0.1, 0.9]], [[0.1, 0.9], [0.01, 0.99]]])}\n",
        "\n",
        "  # Initialize the nodes\n",
        "  cloudy = np.random.choice([0, 1], p=conditional_probability['cloudy'])\n",
        "  rain = np.random.choice([0, 1], p=conditional_probability['rain'][cloudy])\n",
        "  sprinkler = np.random.choice([0, 1], p=conditional_probability['sprinkler'][cloudy])\n",
        "  wet = np.random.choice([0, 1], p=conditional_probability['wet'][sprinkler][rain])\n",
        "\n",
        "  # Loop\n",
        "  for _ in range(num_sample):\n",
        "    cloudy = np.random.choice([0, 1], p=conditional_probability['cloudy'])\n",
        "    rain = np.random.choice([0, 1], p=conditional_probability['rain'][cloudy])\n",
        "    sprinkler = np.random.choice([0, 1], p=conditional_probability['sprinkler'][cloudy])\n",
        "    wet = np.random.choice([0, 1], p=conditional_probability['wet'][sprinkler][rain])\n",
        "    \n",
        "    # Save the samples if burn-in and thinning conditions are met\n",
        "    if _ > burn_in and (_-burn_in) % thinning == 0: \n",
        "      samples['cloudy'].append(cloudy)\n",
        "      samples['rain'].append(rain)\n",
        "      samples['sprinkler'].append(sprinkler)\n",
        "      samples['wet'].append(wet)\n",
        "  \n",
        "  return samples"
      ],
      "metadata": {
        "id": "LRs-iRUTon3v"
      },
      "execution_count": 111,
      "outputs": []
    },
    {
      "cell_type": "markdown",
      "source": [
        "#### **8. Re-estimate P(R = T | S = T,W = T) based on 100 samples obtained after the suggested burn-in time and thinning-out. Compare with (3) and comment on your results. (1 point)**\n"
      ],
      "metadata": {
        "id": "dD8gVEOQooDc"
      }
    },
    {
      "cell_type": "code",
      "source": [
        "samples3 = gibbs_sampler_new(100, 20, 2)"
      ],
      "metadata": {
        "id": "NSBN1nzPFhlv"
      },
      "execution_count": 116,
      "outputs": []
    },
    {
      "cell_type": "code",
      "source": [
        "id = []\n",
        "for i in range(len(samples3['cloudy'])):\n",
        "  if samples3['sprinkler'][i] == 1 and samples3['wet'][i] == 1:\n",
        "    id.append(i)"
      ],
      "metadata": {
        "id": "R4faFbrfopW5"
      },
      "execution_count": 117,
      "outputs": []
    },
    {
      "cell_type": "code",
      "source": [
        "count = 0\n",
        "for i in id:\n",
        "  if samples3['rain'][i] == 1:\n",
        "    count += 1\n",
        "marginal_probability = count/len(id)\n",
        "print(marginal_probability)"
      ],
      "metadata": {
        "colab": {
          "base_uri": "https://localhost:8080/"
        },
        "id": "sSCuPbODAJKH",
        "outputId": "45cc7447-c6c7-48e2-83d1-989d7cf7196a"
      },
      "execution_count": 118,
      "outputs": [
        {
          "output_type": "stream",
          "name": "stdout",
          "text": [
            "0.2727272727272727\n"
          ]
        }
      ]
    },
    {
      "cell_type": "code",
      "source": [
        "count = 0\n",
        "for i in id:\n",
        "  if samples['rain'][i] == 1:\n",
        "    count += 1\n",
        "marginal_probability = count/len(id)\n",
        "print(marginal_probability)"
      ],
      "metadata": {
        "colab": {
          "base_uri": "https://localhost:8080/"
        },
        "id": "nBYtluLCdkzK",
        "outputId": "5020024e-12c2-45f1-a247-8b843a470ec8"
      },
      "execution_count": 115,
      "outputs": [
        {
          "output_type": "stream",
          "name": "stdout",
          "text": [
            "0.4\n"
          ]
        }
      ]
    },
    {
      "cell_type": "markdown",
      "source": [
        "By discarding a certain number of initial samples (burn-in) and only considering every k-th sample (thinning-out), the algorithm is able to avoid the influence of initial conditions and correlation among samples. Therefore, the new probability of 0.27 is likely a more accurate estimate of the true probability, while the old probability of 0.40 was likely influenced by initial conditions and correlation."
      ],
      "metadata": {
        "id": "JG-1ZHwlCnCB"
      }
    },
    {
      "cell_type": "markdown",
      "source": [
        "#### **9. Compute the probability P(R = T | S = T,W = T) analytically and compare it to the sampling estimate. In real world applications, sampling is performed, because it is usually not possible to easily compute the probabilities analytically. However, since the Bayesian network in Figure 1 is only a small network with discrete variables, the analytical approach is possible. (2 points)**"
      ],
      "metadata": {
        "id": "b9Qx0t79opna"
      }
    },
    {
      "cell_type": "code",
      "source": [],
      "metadata": {
        "id": "TDcCXDGcorlI"
      },
      "execution_count": 115,
      "outputs": []
    }
  ]
}
